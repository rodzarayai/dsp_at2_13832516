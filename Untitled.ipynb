{
 "cells": [
  {
   "cell_type": "code",
   "execution_count": 2,
   "id": "4912295f-c954-4e6e-97ed-e7945da71615",
   "metadata": {
    "tags": []
   },
   "outputs": [],
   "source": [
    "from api import get_url\n",
    "url = \"https://api.frankfurter.app/latest\"\n",
    "status_code, data = get_url(url)"
   ]
  },
  {
   "cell_type": "code",
   "execution_count": 3,
   "id": "8e336d37-cdc2-4a84-a651-c474a77895cc",
   "metadata": {
    "tags": []
   },
   "outputs": [
    {
     "name": "stdout",
     "output_type": "stream",
     "text": [
      "200\n",
      "{'amount': 1.0, 'base': 'EUR', 'date': '2024-10-04', 'rates': {'AUD': 1.6121, 'BGN': 1.9558, 'BRL': 6.057, 'CAD': 1.4952, 'CHF': 0.9394, 'CNY': 7.7407, 'CZK': 25.347, 'DKK': 7.4579, 'GBP': 0.83735, 'HKD': 8.5629, 'HUF': 401.33, 'IDR': 17165, 'ILS': 4.2022, 'INR': 92.61, 'ISK': 149.1, 'JPY': 161.69, 'KRW': 1478.24, 'MXN': 21.269, 'MYR': 4.6542, 'NOK': 11.6845, 'NZD': 1.7779, 'PHP': 62.126, 'PLN': 4.3145, 'RON': 4.9769, 'SEK': 11.3375, 'SGD': 1.4314, 'THB': 36.484, 'TRY': 37.776, 'USD': 1.1029, 'ZAR': 19.2809}}\n",
      "1.1029\n"
     ]
    }
   ],
   "source": [
    "# Print the status code\n",
    "print(status_code)\n",
    "\n",
    "# Print the JSON data (already a dictionary)\n",
    "print(data)\n",
    "\n",
    "# Example: Access specific elements\n",
    "#print(data['base'])  # EUR\n",
    "print(data['rates']['USD'])  # USD rate"
   ]
  },
  {
   "cell_type": "code",
   "execution_count": 12,
   "id": "cb00e563-310c-4029-a285-d90ee1e71985",
   "metadata": {
    "tags": []
   },
   "outputs": [],
   "source": [
    "import pandas as pd\n",
    "BASE_URL = \"https://api.frankfurter.app\"\n",
    "\n",
    "def get_currencies_list():\n",
    "    \"\"\"\n",
    "    Function that will call the relevant API endpoint from Frankfurter in order to get the list of available currencies.\n",
    "    After the API call, it will perform a check to see if the API call was successful.\n",
    "    If it is the case, it will load the response as JSON, extract the list of currency codes and return it as Python list.\n",
    "    Otherwise it will return the value None.\n",
    "\n",
    "    Parameters\n",
    "    ----------\n",
    "    None\n",
    "\n",
    "    Returns\n",
    "    -------\n",
    "    list\n",
    "        List of available currencies or None in case of error\n",
    "    dataframe\n",
    "        Dataframe of available currencies and the name of the currency\n",
    "    \"\"\"\n",
    "    \n",
    "    currencies_url = f\"{BASE_URL}/currencies\"\n",
    "    status_code, data = get_url(currencies_url)\n",
    "    #print(response)\n",
    "    if status_code == 200:\n",
    "        #Get cucrrency names and codes\n",
    "        #df = pd.DataFrame(data, columns=['currency_code', 'currency_name'])\n",
    "        print(list(data.keys()))\n",
    "        #return list(df.currency_code), df\n",
    "    else:\n",
    "        print(f\"Failed to retrieve currency list. Status code: {response.status_code}\")\n",
    "        return None\n",
    "        "
   ]
  },
  {
   "cell_type": "code",
   "execution_count": 8,
   "id": "e57a9c5a-047f-4038-bc57-479d480dc741",
   "metadata": {
    "tags": []
   },
   "outputs": [],
   "source": [
    "currencies_url = f\"{BASE_URL}/currencies\"\n",
    "response = get_url(currencies_url)"
   ]
  },
  {
   "cell_type": "code",
   "execution_count": 13,
   "id": "df9020e3-afd3-4baf-ad8c-6003980c0997",
   "metadata": {
    "tags": []
   },
   "outputs": [
    {
     "name": "stdout",
     "output_type": "stream",
     "text": [
      "['AUD', 'BGN', 'BRL', 'CAD', 'CHF', 'CNY', 'CZK', 'DKK', 'EUR', 'GBP', 'HKD', 'HUF', 'IDR', 'ILS', 'INR', 'ISK', 'JPY', 'KRW', 'MXN', 'MYR', 'NOK', 'NZD', 'PHP', 'PLN', 'RON', 'SEK', 'SGD', 'THB', 'TRY', 'USD', 'ZAR']\n"
     ]
    }
   ],
   "source": [
    "get_currencies_list()"
   ]
  },
  {
   "cell_type": "code",
   "execution_count": 41,
   "id": "3759264d-8c2a-4417-8a4b-6314a2ff0001",
   "metadata": {
    "tags": []
   },
   "outputs": [
    {
     "name": "stdout",
     "output_type": "stream",
     "text": [
      "<class 'str'>\n"
     ]
    },
    {
     "ename": "ValueError",
     "evalue": "DataFrame constructor not properly called!",
     "output_type": "error",
     "traceback": [
      "\u001b[0;31m---------------------------------------------------------------------------\u001b[0m",
      "\u001b[0;31mValueError\u001b[0m                                Traceback (most recent call last)",
      "\u001b[0;32m/var/folders/nq/qwlbc_5113zc0kcq7gz5hhpr0000gn/T/ipykernel_36707/2959908220.py\u001b[0m in \u001b[0;36m?\u001b[0;34m()\u001b[0m\n\u001b[0;32m----> 1\u001b[0;31m \u001b[0mget_currencies_list\u001b[0m\u001b[0;34m(\u001b[0m\u001b[0;34m)\u001b[0m\u001b[0;34m\u001b[0m\u001b[0;34m\u001b[0m\u001b[0m\n\u001b[0m",
      "\u001b[0;32m/var/folders/nq/qwlbc_5113zc0kcq7gz5hhpr0000gn/T/ipykernel_36707/577351332.py\u001b[0m in \u001b[0;36m?\u001b[0;34m()\u001b[0m\n\u001b[1;32m     26\u001b[0m     \u001b[0;32mif\u001b[0m \u001b[0mresponse\u001b[0m\u001b[0;34m[\u001b[0m\u001b[0;36m0\u001b[0m\u001b[0;34m]\u001b[0m \u001b[0;34m==\u001b[0m \u001b[0;36m200\u001b[0m\u001b[0;34m:\u001b[0m\u001b[0;34m\u001b[0m\u001b[0;34m\u001b[0m\u001b[0m\n\u001b[1;32m     27\u001b[0m         \u001b[0mdata\u001b[0m \u001b[0;34m=\u001b[0m \u001b[0mresponse\u001b[0m\u001b[0;34m[\u001b[0m\u001b[0;36m1\u001b[0m\u001b[0;34m]\u001b[0m\u001b[0;34m\u001b[0m\u001b[0;34m\u001b[0m\u001b[0m\n\u001b[1;32m     28\u001b[0m         \u001b[0mprint\u001b[0m\u001b[0;34m(\u001b[0m\u001b[0mtype\u001b[0m\u001b[0;34m(\u001b[0m\u001b[0mdata\u001b[0m\u001b[0;34m)\u001b[0m\u001b[0;34m)\u001b[0m\u001b[0;34m\u001b[0m\u001b[0;34m\u001b[0m\u001b[0m\n\u001b[1;32m     29\u001b[0m         \u001b[0;31m#Get cucrrency names and codes\u001b[0m\u001b[0;34m\u001b[0m\u001b[0;34m\u001b[0m\u001b[0m\n\u001b[0;32m---> 30\u001b[0;31m         \u001b[0mdf\u001b[0m \u001b[0;34m=\u001b[0m \u001b[0mpd\u001b[0m\u001b[0;34m.\u001b[0m\u001b[0mDataFrame\u001b[0m\u001b[0;34m(\u001b[0m\u001b[0mdata\u001b[0m\u001b[0;34m,\u001b[0m \u001b[0mcolumns\u001b[0m\u001b[0;34m=\u001b[0m\u001b[0;34m[\u001b[0m\u001b[0;34m'currency_code'\u001b[0m\u001b[0;34m,\u001b[0m \u001b[0;34m'currency_name'\u001b[0m\u001b[0;34m]\u001b[0m\u001b[0;34m)\u001b[0m\u001b[0;34m\u001b[0m\u001b[0;34m\u001b[0m\u001b[0m\n\u001b[0m\u001b[1;32m     31\u001b[0m         \u001b[0;31m#print(data)\u001b[0m\u001b[0;34m\u001b[0m\u001b[0;34m\u001b[0m\u001b[0m\n\u001b[1;32m     32\u001b[0m         \u001b[0;32mreturn\u001b[0m \u001b[0mlist\u001b[0m\u001b[0;34m(\u001b[0m\u001b[0mdf\u001b[0m\u001b[0;34m.\u001b[0m\u001b[0mcurrency_code\u001b[0m\u001b[0;34m)\u001b[0m\u001b[0;34m,\u001b[0m \u001b[0mdf\u001b[0m\u001b[0;34m\u001b[0m\u001b[0;34m\u001b[0m\u001b[0m\n\u001b[1;32m     33\u001b[0m     \u001b[0;32melse\u001b[0m\u001b[0;34m:\u001b[0m\u001b[0;34m\u001b[0m\u001b[0;34m\u001b[0m\u001b[0m\n",
      "\u001b[0;32m~/opt/anaconda3/lib/python3.9/site-packages/pandas/core/frame.py\u001b[0m in \u001b[0;36m?\u001b[0;34m(self, data, index, columns, dtype, copy)\u001b[0m\n\u001b[1;32m    840\u001b[0m                 )\n\u001b[1;32m    841\u001b[0m         \u001b[0;31m# For data is scalar\u001b[0m\u001b[0;34m\u001b[0m\u001b[0;34m\u001b[0m\u001b[0m\n\u001b[1;32m    842\u001b[0m         \u001b[0;32melse\u001b[0m\u001b[0;34m:\u001b[0m\u001b[0;34m\u001b[0m\u001b[0;34m\u001b[0m\u001b[0m\n\u001b[1;32m    843\u001b[0m             \u001b[0;32mif\u001b[0m \u001b[0mindex\u001b[0m \u001b[0;32mis\u001b[0m \u001b[0;32mNone\u001b[0m \u001b[0;32mor\u001b[0m \u001b[0mcolumns\u001b[0m \u001b[0;32mis\u001b[0m \u001b[0;32mNone\u001b[0m\u001b[0;34m:\u001b[0m\u001b[0;34m\u001b[0m\u001b[0;34m\u001b[0m\u001b[0m\n\u001b[0;32m--> 844\u001b[0;31m                 \u001b[0;32mraise\u001b[0m \u001b[0mValueError\u001b[0m\u001b[0;34m(\u001b[0m\u001b[0;34m\"DataFrame constructor not properly called!\"\u001b[0m\u001b[0;34m)\u001b[0m\u001b[0;34m\u001b[0m\u001b[0;34m\u001b[0m\u001b[0m\n\u001b[0m\u001b[1;32m    845\u001b[0m \u001b[0;34m\u001b[0m\u001b[0m\n\u001b[1;32m    846\u001b[0m             \u001b[0mindex\u001b[0m \u001b[0;34m=\u001b[0m \u001b[0mensure_index\u001b[0m\u001b[0;34m(\u001b[0m\u001b[0mindex\u001b[0m\u001b[0;34m)\u001b[0m\u001b[0;34m\u001b[0m\u001b[0;34m\u001b[0m\u001b[0m\n\u001b[1;32m    847\u001b[0m             \u001b[0mcolumns\u001b[0m \u001b[0;34m=\u001b[0m \u001b[0mensure_index\u001b[0m\u001b[0;34m(\u001b[0m\u001b[0mcolumns\u001b[0m\u001b[0;34m)\u001b[0m\u001b[0;34m\u001b[0m\u001b[0;34m\u001b[0m\u001b[0m\n",
      "\u001b[0;31mValueError\u001b[0m: DataFrame constructor not properly called!"
     ]
    }
   ],
   "source": [
    "get_currencies_list()"
   ]
  },
  {
   "cell_type": "code",
   "execution_count": 1,
   "id": "f79ccbea-e1dc-4120-b67a-59e09270ada8",
   "metadata": {
    "tags": []
   },
   "outputs": [
    {
     "name": "stdout",
     "output_type": "stream",
     "text": [
      "Intel MKL WARNING: Support of Intel(R) Streaming SIMD Extensions 4.2 (Intel(R) SSE4.2) enabled only processors has been deprecated. Intel oneAPI Math Kernel Library 2025.0 will require Intel(R) Advanced Vector Extensions (Intel(R) AVX) instructions.\n",
      "Intel MKL WARNING: Support of Intel(R) Streaming SIMD Extensions 4.2 (Intel(R) SSE4.2) enabled only processors has been deprecated. Intel oneAPI Math Kernel Library 2025.0 will require Intel(R) Advanced Vector Extensions (Intel(R) AVX) instructions.\n"
     ]
    }
   ],
   "source": [
    "from frankfurter import *"
   ]
  },
  {
   "cell_type": "code",
   "execution_count": 3,
   "id": "f9cfb017-9939-4723-8ddc-949cded637b1",
   "metadata": {
    "tags": []
   },
   "outputs": [
    {
     "data": {
      "text/plain": [
       "{'AUD': 'Australian Dollar',\n",
       " 'BGN': 'Bulgarian Lev',\n",
       " 'BRL': 'Brazilian Real',\n",
       " 'CAD': 'Canadian Dollar',\n",
       " 'CHF': 'Swiss Franc',\n",
       " 'CNY': 'Chinese Renminbi Yuan',\n",
       " 'CZK': 'Czech Koruna',\n",
       " 'DKK': 'Danish Krone',\n",
       " 'EUR': 'Euro',\n",
       " 'GBP': 'British Pound',\n",
       " 'HKD': 'Hong Kong Dollar',\n",
       " 'HUF': 'Hungarian Forint',\n",
       " 'IDR': 'Indonesian Rupiah',\n",
       " 'ILS': 'Israeli New Sheqel',\n",
       " 'INR': 'Indian Rupee',\n",
       " 'ISK': 'Icelandic Króna',\n",
       " 'JPY': 'Japanese Yen',\n",
       " 'KRW': 'South Korean Won',\n",
       " 'MXN': 'Mexican Peso',\n",
       " 'MYR': 'Malaysian Ringgit',\n",
       " 'NOK': 'Norwegian Krone',\n",
       " 'NZD': 'New Zealand Dollar',\n",
       " 'PHP': 'Philippine Peso',\n",
       " 'PLN': 'Polish Złoty',\n",
       " 'RON': 'Romanian Leu',\n",
       " 'SEK': 'Swedish Krona',\n",
       " 'SGD': 'Singapore Dollar',\n",
       " 'THB': 'Thai Baht',\n",
       " 'TRY': 'Turkish Lira',\n",
       " 'USD': 'United States Dollar',\n",
       " 'ZAR': 'South African Rand'}"
      ]
     },
     "execution_count": 3,
     "metadata": {},
     "output_type": "execute_result"
    }
   ],
   "source": [
    "currency_list = get_currencies_list()\n",
    "currency_list"
   ]
  },
  {
   "cell_type": "code",
   "execution_count": 6,
   "id": "4045f068-8e9d-4ba3-a0bc-7a78558a6c51",
   "metadata": {
    "tags": []
   },
   "outputs": [
    {
     "data": {
      "text/plain": [
       "['AUD',\n",
       " 'BGN',\n",
       " 'BRL',\n",
       " 'CAD',\n",
       " 'CHF',\n",
       " 'CNY',\n",
       " 'CZK',\n",
       " 'DKK',\n",
       " 'EUR',\n",
       " 'GBP',\n",
       " 'HKD',\n",
       " 'HUF',\n",
       " 'IDR',\n",
       " 'ILS',\n",
       " 'INR',\n",
       " 'ISK',\n",
       " 'JPY',\n",
       " 'KRW',\n",
       " 'MXN',\n",
       " 'MYR',\n",
       " 'NOK',\n",
       " 'NZD',\n",
       " 'PHP',\n",
       " 'PLN',\n",
       " 'RON',\n",
       " 'SEK',\n",
       " 'SGD',\n",
       " 'THB',\n",
       " 'TRY',\n",
       " 'USD',\n",
       " 'ZAR']"
      ]
     },
     "execution_count": 6,
     "metadata": {},
     "output_type": "execute_result"
    }
   ],
   "source": [
    "list(currency_list.keys())"
   ]
  },
  {
   "cell_type": "code",
   "execution_count": 9,
   "id": "68cae2f9-3b91-4633-84a1-8daf41ccc3e8",
   "metadata": {
    "tags": []
   },
   "outputs": [],
   "source": [
    "date_str = '2024-08-08'\n",
    "date_to = '2024-08-12'\n",
    "convert_from = 'USD'\n",
    "convert_to = 'AUD'\n"
   ]
  },
  {
   "cell_type": "code",
   "execution_count": 18,
   "id": "19bcf3b4-1206-4943-b791-afd2324b7f8a",
   "metadata": {
    "tags": []
   },
   "outputs": [],
   "source": [
    "#Get a conversion period. SHould not be longer than 90 days\n",
    "def get_period(convert_from, convert_to, date_from, date_to, amount=10000.0):\n",
    "    \n",
    "\n",
    "    url = f\"https://api.frankfurter.app/{date_str}..{date_to}?amount={amount}?from={convert_from}&to={convert_to}\"\n",
    "    status_code, data = get_url(url)\n",
    "    if status_code == 200:\n",
    "        # Unpack rates in the format {date: rate}\n",
    "        dates_rates = {date: list(rates.values())[0] for date, rates in data[\"rates\"].items()}\n",
    "        # Flatten the data to include amount and base as columns\n",
    "        flat_data = {**{'start_date': data['start_date'],'amount': data['amount'], 'base': data['base'], 'converted_to': convert_to},**dates_rates}\n",
    "        df = pd.DataFrame([flat_data])\n",
    "        return df\n",
    "    else:\n",
    "        print(f\"Failed to retrieve data. Status code: {response.status_code}\")"
   ]
  },
  {
   "cell_type": "code",
   "execution_count": 20,
   "id": "0c94eccd-a050-4fd5-a08f-da89fb060911",
   "metadata": {
    "tags": []
   },
   "outputs": [],
   "source": [
    "from datetime import datetime, timedelta"
   ]
  },
  {
   "cell_type": "code",
   "execution_count": 24,
   "id": "da72f760-ad61-4797-aa9d-c98e20cc35e0",
   "metadata": {
    "tags": []
   },
   "outputs": [
    {
     "ename": "NameError",
     "evalue": "name 'amount' is not defined",
     "output_type": "error",
     "traceback": [
      "\u001b[0;31m---------------------------------------------------------------------------\u001b[0m",
      "\u001b[0;31mNameError\u001b[0m                                 Traceback (most recent call last)",
      "Cell \u001b[0;32mIn[24], line 1\u001b[0m\n\u001b[0;32m----> 1\u001b[0m latest_date_str, fx_rate \u001b[38;5;241m=\u001b[39m get_latest_rates(convert_from, convert_to, \u001b[43mamount\u001b[49m)\n",
      "\u001b[0;31mNameError\u001b[0m: name 'amount' is not defined"
     ]
    }
   ],
   "source": [
    "latest_date_str, fx_rate = get_latest_rates(convert_from, convert_to, amount)"
   ]
  },
  {
   "cell_type": "code",
   "execution_count": 19,
   "id": "ee217de3-3779-4090-a78c-5359fe2260e5",
   "metadata": {
    "tags": []
   },
   "outputs": [
    {
     "data": {
      "text/html": [
       "<div>\n",
       "<style scoped>\n",
       "    .dataframe tbody tr th:only-of-type {\n",
       "        vertical-align: middle;\n",
       "    }\n",
       "\n",
       "    .dataframe tbody tr th {\n",
       "        vertical-align: top;\n",
       "    }\n",
       "\n",
       "    .dataframe thead th {\n",
       "        text-align: right;\n",
       "    }\n",
       "</style>\n",
       "<table border=\"1\" class=\"dataframe\">\n",
       "  <thead>\n",
       "    <tr style=\"text-align: right;\">\n",
       "      <th></th>\n",
       "      <th>start_date</th>\n",
       "      <th>amount</th>\n",
       "      <th>base</th>\n",
       "      <th>converted_to</th>\n",
       "      <th>2024-08-08</th>\n",
       "      <th>2024-08-09</th>\n",
       "      <th>2024-08-12</th>\n",
       "    </tr>\n",
       "  </thead>\n",
       "  <tbody>\n",
       "    <tr>\n",
       "      <th>0</th>\n",
       "      <td>2024-08-08</td>\n",
       "      <td>10000.0</td>\n",
       "      <td>EUR</td>\n",
       "      <td>AUD</td>\n",
       "      <td>16677</td>\n",
       "      <td>16609</td>\n",
       "      <td>16560</td>\n",
       "    </tr>\n",
       "  </tbody>\n",
       "</table>\n",
       "</div>"
      ],
      "text/plain": [
       "   start_date   amount base converted_to  2024-08-08  2024-08-09  2024-08-12\n",
       "0  2024-08-08  10000.0  EUR          AUD       16677       16609       16560"
      ]
     },
     "execution_count": 19,
     "metadata": {},
     "output_type": "execute_result"
    }
   ],
   "source": [
    "latest_df = get_period(convert_from, convert_to, date_str, date_to)\n",
    "latest_df"
   ]
  },
  {
   "cell_type": "code",
   "execution_count": 28,
   "id": "70a3f546-3280-4c4d-bff5-2b74a32eeac5",
   "metadata": {
    "tags": []
   },
   "outputs": [],
   "source": [
    "#Get a conversion period. SHould not be longer than 90 days\n",
    "def get_last_period(convert_from, convert_to, date_from=None, date_to=None, amount=1.0):\n",
    "    \n",
    "    # Get the latest date if no date_to is provided\n",
    "    latest_date_str, fx_rate = get_latest_rates(convert_from, convert_to, amount)\n",
    "    latest_date = datetime.strptime(latest_date_str, '%Y-%m-%d')\n",
    "\n",
    "    if not date_from and not date_to: #If they are not given, the calculate 60 days    \n",
    "        # Subtract 30 days from the latest date\n",
    "        prior_60_date = latest_date - timedelta(days=30)\n",
    "        date_from_str = prior_60_date.strftime('%Y-%m-%d')\n",
    "        date_to_str = latest_date_str\n",
    "    else:\n",
    "        date_from_date = datetime.strptime(date_from, '%Y-%m-%d')\n",
    "        date_to_date = datetime.strptime(date_to, '%Y-%m-%d')\n",
    "        \n",
    "        # Check if both dates are provided, if not, default to 30 days prior\n",
    "        if not date_from_date:\n",
    "            date_from_date = date_to_date - timedelta(days=30)\n",
    "        if not date_to_date:\n",
    "            date_to_date = date_from_date + timedelta(days=30)\n",
    "        \n",
    "        # Check that date_to_obj does not exceed the latest date\n",
    "        if date_to_date > latest_date:\n",
    "            date_to_date = latest_date\n",
    "            \n",
    "        # Calculate difference in days\n",
    "        days_difference = (date_to_date - date_from_date).days\n",
    "        \n",
    "        # Ensure the period is not longer than 90 days\n",
    "        if days_difference > 90:\n",
    "            raise ValueError(\"The date range cannot be longer than 90 days\")\n",
    "        \n",
    "        # Convert dates back to string\n",
    "        date_from_str = date_from_date.strftime('%Y-%m-%d')\n",
    "        date_to_str = date_to_date.strftime('%Y-%m-%d')\n",
    "\n",
    " \n",
    "    url = f\"https://api.frankfurter.app/{date_from_str}..{date_to_str}?amount={amount}?from={convert_from}&to={convert_to}\"\n",
    "    status_code, data = get_url(url)\n",
    "    if status_code == 200:\n",
    "        # Unpack rates in the format {date: rate}\n",
    "        dates_rates = {date: list(rates.values())[0] for date, rates in data[\"rates\"].items()}\n",
    "        # Flatten the data to include amount and base as columns\n",
    "        flat_data = {**{'start_date': data['start_date'],'amount': data['amount'], 'base': data['base'], 'converted_to': convert_to},**dates_rates}\n",
    "        df = pd.DataFrame([flat_data])\n",
    "        return df\n",
    "    else:\n",
    "        print(f\"Failed to retrieve data. Status code: {response.status_code}\")"
   ]
  },
  {
   "cell_type": "code",
   "execution_count": 29,
   "id": "4cb88888-ad7a-40f8-974a-1a5f5d272fce",
   "metadata": {
    "tags": []
   },
   "outputs": [
    {
     "data": {
      "text/html": [
       "<div>\n",
       "<style scoped>\n",
       "    .dataframe tbody tr th:only-of-type {\n",
       "        vertical-align: middle;\n",
       "    }\n",
       "\n",
       "    .dataframe tbody tr th {\n",
       "        vertical-align: top;\n",
       "    }\n",
       "\n",
       "    .dataframe thead th {\n",
       "        text-align: right;\n",
       "    }\n",
       "</style>\n",
       "<table border=\"1\" class=\"dataframe\">\n",
       "  <thead>\n",
       "    <tr style=\"text-align: right;\">\n",
       "      <th></th>\n",
       "      <th>start_date</th>\n",
       "      <th>amount</th>\n",
       "      <th>base</th>\n",
       "      <th>converted_to</th>\n",
       "      <th>2024-08-08</th>\n",
       "      <th>2024-08-09</th>\n",
       "      <th>2024-08-12</th>\n",
       "    </tr>\n",
       "  </thead>\n",
       "  <tbody>\n",
       "    <tr>\n",
       "      <th>0</th>\n",
       "      <td>2024-08-08</td>\n",
       "      <td>1.0</td>\n",
       "      <td>EUR</td>\n",
       "      <td>AUD</td>\n",
       "      <td>1.6677</td>\n",
       "      <td>1.6609</td>\n",
       "      <td>1.656</td>\n",
       "    </tr>\n",
       "  </tbody>\n",
       "</table>\n",
       "</div>"
      ],
      "text/plain": [
       "   start_date  amount base converted_to  2024-08-08  2024-08-09  2024-08-12\n",
       "0  2024-08-08     1.0  EUR          AUD      1.6677      1.6609       1.656"
      ]
     },
     "execution_count": 29,
     "metadata": {},
     "output_type": "execute_result"
    }
   ],
   "source": [
    "get_last_60(convert_from, convert_to, date_str, date_to)"
   ]
  },
  {
   "cell_type": "code",
   "execution_count": 30,
   "id": "89b09fd3-44a2-4415-a5e0-d46449f1c1d5",
   "metadata": {
    "tags": []
   },
   "outputs": [
    {
     "data": {
      "text/html": [
       "<div>\n",
       "<style scoped>\n",
       "    .dataframe tbody tr th:only-of-type {\n",
       "        vertical-align: middle;\n",
       "    }\n",
       "\n",
       "    .dataframe tbody tr th {\n",
       "        vertical-align: top;\n",
       "    }\n",
       "\n",
       "    .dataframe thead th {\n",
       "        text-align: right;\n",
       "    }\n",
       "</style>\n",
       "<table border=\"1\" class=\"dataframe\">\n",
       "  <thead>\n",
       "    <tr style=\"text-align: right;\">\n",
       "      <th></th>\n",
       "      <th>start_date</th>\n",
       "      <th>amount</th>\n",
       "      <th>base</th>\n",
       "      <th>converted_to</th>\n",
       "      <th>2024-08-21</th>\n",
       "      <th>2024-08-22</th>\n",
       "      <th>2024-08-23</th>\n",
       "      <th>2024-08-26</th>\n",
       "      <th>2024-08-27</th>\n",
       "      <th>2024-08-28</th>\n",
       "      <th>...</th>\n",
       "      <th>2024-09-09</th>\n",
       "      <th>2024-09-10</th>\n",
       "      <th>2024-09-11</th>\n",
       "      <th>2024-09-12</th>\n",
       "      <th>2024-09-13</th>\n",
       "      <th>2024-09-16</th>\n",
       "      <th>2024-09-17</th>\n",
       "      <th>2024-09-18</th>\n",
       "      <th>2024-09-19</th>\n",
       "      <th>2024-09-20</th>\n",
       "    </tr>\n",
       "  </thead>\n",
       "  <tbody>\n",
       "    <tr>\n",
       "      <th>0</th>\n",
       "      <td>2024-08-21</td>\n",
       "      <td>1.0</td>\n",
       "      <td>EUR</td>\n",
       "      <td>AUD</td>\n",
       "      <td>1.6495</td>\n",
       "      <td>1.655</td>\n",
       "      <td>1.6518</td>\n",
       "      <td>1.6496</td>\n",
       "      <td>1.6461</td>\n",
       "      <td>1.6407</td>\n",
       "      <td>...</td>\n",
       "      <td>1.6596</td>\n",
       "      <td>1.6551</td>\n",
       "      <td>1.656</td>\n",
       "      <td>1.6497</td>\n",
       "      <td>1.6542</td>\n",
       "      <td>1.6492</td>\n",
       "      <td>1.6472</td>\n",
       "      <td>1.64</td>\n",
       "      <td>1.6352</td>\n",
       "      <td>1.6388</td>\n",
       "    </tr>\n",
       "  </tbody>\n",
       "</table>\n",
       "<p>1 rows × 27 columns</p>\n",
       "</div>"
      ],
      "text/plain": [
       "   start_date  amount base converted_to  2024-08-21  2024-08-22  2024-08-23  \\\n",
       "0  2024-08-21     1.0  EUR          AUD      1.6495       1.655      1.6518   \n",
       "\n",
       "   2024-08-26  2024-08-27  2024-08-28  ...  2024-09-09  2024-09-10  \\\n",
       "0      1.6496      1.6461      1.6407  ...      1.6596      1.6551   \n",
       "\n",
       "   2024-09-11  2024-09-12  2024-09-13  2024-09-16  2024-09-17  2024-09-18  \\\n",
       "0       1.656      1.6497      1.6542      1.6492      1.6472        1.64   \n",
       "\n",
       "   2024-09-19  2024-09-20  \n",
       "0      1.6352      1.6388  \n",
       "\n",
       "[1 rows x 27 columns]"
      ]
     },
     "execution_count": 30,
     "metadata": {},
     "output_type": "execute_result"
    }
   ],
   "source": [
    "get_last_60(convert_from, convert_to)"
   ]
  },
  {
   "cell_type": "code",
   "execution_count": 1,
   "id": "d183bdb6-5a78-4fa8-87ae-857e711cb071",
   "metadata": {
    "tags": []
   },
   "outputs": [],
   "source": [
    "date_to = '2024-09-24'"
   ]
  },
  {
   "cell_type": "code",
   "execution_count": 2,
   "id": "6048240d-361d-43c5-bb4b-2d8d6c758aa9",
   "metadata": {},
   "outputs": [
    {
     "data": {
      "text/plain": [
       "False"
      ]
     },
     "execution_count": 2,
     "metadata": {},
     "output_type": "execute_result"
    }
   ],
   "source": [
    "type(date_to) == 'str'\n",
    "\n",
    "\n"
   ]
  },
  {
   "cell_type": "code",
   "execution_count": 4,
   "id": "a0c0eb74-d886-48d9-af6b-2d728ca11c38",
   "metadata": {
    "tags": []
   },
   "outputs": [
    {
     "data": {
      "text/plain": [
       "str"
      ]
     },
     "execution_count": 4,
     "metadata": {},
     "output_type": "execute_result"
    }
   ],
   "source": [
    "type(date_to)"
   ]
  },
  {
   "cell_type": "code",
   "execution_count": 1,
   "id": "e1e5c7f9-0261-4b73-bb89-9f0e830429db",
   "metadata": {},
   "outputs": [
    {
     "name": "stdout",
     "output_type": "stream",
     "text": [
      "3.9.13 (main, Aug 25 2022, 18:29:29) \n",
      "[Clang 12.0.0 ]\n"
     ]
    }
   ],
   "source": [
    "import sys\n",
    "print(sys.version)"
   ]
  },
  {
   "cell_type": "code",
   "execution_count": null,
   "id": "871870f8-c9d3-455e-81a8-b8ebea7c9912",
   "metadata": {},
   "outputs": [],
   "source": []
  }
 ],
 "metadata": {
  "kernelspec": {
   "display_name": "Python 3 (ipykernel)",
   "language": "python",
   "name": "python3"
  },
  "language_info": {
   "codemirror_mode": {
    "name": "ipython",
    "version": 3
   },
   "file_extension": ".py",
   "mimetype": "text/x-python",
   "name": "python",
   "nbconvert_exporter": "python",
   "pygments_lexer": "ipython3",
   "version": "3.9.13"
  }
 },
 "nbformat": 4,
 "nbformat_minor": 5
}
